{
 "cells": [
  {
   "cell_type": "code",
   "execution_count": 1,
   "metadata": {},
   "outputs": [],
   "source": [
    "import numpy as np\n",
    "import matplotlib.pyplot as plt\n",
    "import matplotlib.cm as cm\n",
    "import matplotlib.colors as colors\n",
    "import matplotlib\n",
    "from astropy.io import fits\n",
    "from astropy.table import Table\n",
    "from astropy.coordinates import SkyCoord\n",
    "import astropy.stats as astats\n",
    "from astropy import units as u\n",
    "from mpl_toolkits.axes_grid1 import AxesGrid\n",
    "import sys\n",
    "from matplotlib.path import Path\n",
    "#from ipykernel import kernelapp as app"
   ]
  },
  {
   "cell_type": "code",
   "execution_count": 35,
   "metadata": {},
   "outputs": [
    {
     "name": "stdout",
     "output_type": "stream",
     "text": [
      "[[  1.           4.54291294 306.66106561]\n",
      " [  2.           4.77548959 203.21522373]\n",
      " [  3.           2.38846894 238.01389421]\n",
      " [  4.           2.12209409 278.70510685]\n",
      " [  5.           1.36733057 330.21965315]\n",
      " [  6.           0.71763438 235.4233758 ]\n",
      " [  7.           2.04666974 194.23246562]\n",
      " [  8.           9.6462529  180.42172114]\n",
      " [  9.           2.21729614  18.95296773]\n",
      " [ 10.           0.96221347  59.07181829]\n",
      " [ 11.           1.43251915 139.54341958]\n",
      " [ 12.           2.85133583 158.76615569]\n",
      " [ 13.           5.87911639 167.85837349]\n",
      " [ 14.           2.64786933  57.02607809]\n",
      " [ 15.           2.34750342  93.72018494]\n",
      " [ 16.           3.00823969 125.06594687]\n",
      " [ 17.          11.88537873 172.08445314]\n",
      " [ 18.           5.56719001 103.65707041]\n",
      " [ 19.           6.89580803 141.73031354]\n",
      " [ 20.           8.75936353  62.39456432]\n",
      " [ 21.           8.18837276  84.11853929]\n",
      " [ 22.           7.88698542 115.43479628]\n",
      " [ 23.          12.58383539  84.51824155]\n",
      " [ 24.          10.44406197 105.23698616]\n",
      " [ 25.          10.87891728 145.62851256]\n",
      " [ 26.          11.38594742 127.39917819]\n",
      " [139.          14.9625936  227.34180546]\n",
      " [141.          13.04232111 217.13298104]\n",
      " [142.          13.90789315 243.8732731 ]\n",
      " [143.          11.44759371 235.53138019]\n",
      " [144.          13.81697875 268.51889784]\n",
      " [145.           9.59179746 259.21425811]\n",
      " [147.          11.09453134 282.53589907]\n",
      " [148.          11.6833123  195.57234313]\n",
      " [149.           6.49188433 266.18197636]\n",
      " [150.           8.78187335 295.04437276]\n",
      " [176.           5.10527997 349.18411128]\n",
      " [177.           6.26934491  34.56817745]\n",
      " [178.           4.01218679  72.1404313 ]\n",
      " [181.           9.23403995 223.66820501]]\n"
     ]
    }
   ],
   "source": [
    "# We want to have a file with the basic data of each field summarized. So far, this data includes:\n",
    "#   - Field number\n",
    "#   - Degrees from SMC centre\n",
    "#   - Position Angle\n",
    "#   - Area in deg^2\n",
    "coord_list = read_txt('/home/pol/PhD_DATA/SMASH_DATA/smash_fields_final.txt', cols = (0,4,5))\n",
    "field_coord_SMC = np.array(coordinate_calculator(coord_list))\n",
    "field_coord_SMC.shape = len(field_list), 3\n",
    "print field_coord_SMC\n",
    "#print coord_list\n",
    "#print field_coord_SMC[0], field_coord_SMC[1] * np.cos(np.deg2rad(field_coord_SMC[2]))"
   ]
  },
  {
   "cell_type": "code",
   "execution_count": 34,
   "metadata": {},
   "outputs": [],
   "source": [
    "inner_radius = np.where(field_coord_SMC[:,1]< 15)\n",
    "inner_fields = field_coord_SMC[inner_radius,0]\n",
    "field_list = [str(int(x)) for x in inner_fields[0]]"
   ]
  },
  {
   "cell_type": "code",
   "execution_count": 32,
   "metadata": {},
   "outputs": [],
   "source": [
    "field_list = ['1','2','3','4','5','6','7','8','9','10','11','12','13','14','15','16','17','18','19','20','21','22','23','24','25','26','33','62','130','131','132','133','134','135','136','137','138','139','140','141','142','143','144','145','147','148','149','150','176','177','178','179','180','181']\n",
    "model_list = ['mesa']\n",
    "coeff_list = ['decam']"
   ]
  },
  {
   "cell_type": "code",
   "execution_count": 53,
   "metadata": {},
   "outputs": [],
   "source": [
    "xbinsize = 0.1\n",
    "ybinsize = 0.3\n",
    "xbins = np.arange( start = -1, stop = 2, step = xbinsize)\n",
    "ybins = np.arange( start = 14, stop = 24, step = ybinsize)\n",
    "\n",
    "# Respectively u,g,r,i,z. Ex: u0 = u - 4.239*E(B-V)\n",
    "extinction_coeff_sdss = np.array([4.239, 3.303, 2.285, 1.698, 1.263])\n",
    "# Respectively u,g,r,i,z,Y. Ex: A_u = R_u*EBV_SFD98 ; u0 = u - A_u\n",
    "extinction_coeff_decam = np.array([3.9631, 3.1863, 2.1401, 1.5690, 1.1957, 1.0476])\n",
    "\n",
    "vertex_coord = [(-1,14),(-1,21),(0,24),(1,24),(0.8,23),(1,20.3),(1.4,18.5),(2,17.5),(2,16.5),(0.8,18),(0.4,18),(0.4,21),(-0.1,19),(-0.3,18),(-0.5,16),(-0.5,14),(-1,14)]\n",
    "halo_vertex_coord = [(0.2, 18), (0.4, 18), (0.4, 19), (0.2, 19)] # This is what defines the vertices of the region to be defined."
   ]
  },
  {
   "cell_type": "code",
   "execution_count": 5,
   "metadata": {},
   "outputs": [],
   "source": [
    "# Opens a SMASH fits file and stores the data in the field_data variable. This variable is a XRx36C array with the following columns:\n",
    "# 0-ID 1-RA 2-DEC 3-RAERR 4-DECERR 5-RASCATTER 6-DECSCATTER 7-NDET 8-DEPTHFLAG 9-SRCINDX 10-SRCFINDX 11-U 12-UERR 13-USCATTER 14-NDETU 15-G 16-GERR 17-GSCATTER 18-NDETG 19-R 20-RERR 21-RSCATTER 22-NDETR 23-I 24-IERR 25-ISCATTER 26-NDETI 27-Z 28-ZERR 29-ZSCATTER 30-NDETZ 31-CHI 32-SHARP 33-FLAG 34-PROB 35-EBV\n",
    "def read_fits (name):\n",
    "    hdulist = fits.open(name)\n",
    "    field_data = hdulist[1].data\n",
    "    header = hdulist[1].header\n",
    "    hdulist.close()\n",
    "    return field_data, header"
   ]
  },
  {
   "cell_type": "code",
   "execution_count": 6,
   "metadata": {},
   "outputs": [],
   "source": [
    "# Opens a text file and stores the data in field_data.\n",
    "def read_txt (name, cols = None):\n",
    "    field_data = np.loadtxt(name, comments='#', usecols = cols)\n",
    "    return field_data.T"
   ]
  },
  {
   "cell_type": "code",
   "execution_count": 7,
   "metadata": {},
   "outputs": [],
   "source": [
    "# Function that dereddenes a set of magnitudes. It uses the standard method and the user has to decide which coefficients wants to use.\n",
    "# By default, it uses the filters of DECam\n",
    "def dereddener(mag, filter, EBV, filterset = 'decam'):\n",
    "    EBV[np.where(EBV > 0.3)] = 0.037 #This line is to ensure we don't have unrealistic extinction values in the SMC centre. The limit is debatable.\n",
    "    if filterset == 'decam':\n",
    "        return mag - extinction_coeff_decam[filter]*EBV\n",
    "    else:\n",
    "        return mag - extinction_coeff_sdss[filter]*EBV"
   ]
  },
  {
   "cell_type": "code",
   "execution_count": 26,
   "metadata": {},
   "outputs": [],
   "source": [
    "# Function that applies a completeness correction to the MW models in SMASH.\n",
    "# Input: the number of the field we're dealing with (field_number) and the data in the file of the model.\n",
    "# Output: A 2D histogram representing the corrected CMD of the model within the stablished colour and mag limits.\n",
    "# Global variables: xbins and ybins.\n",
    "def completeness_corrector(field_number, model, area):\n",
    "    name_field_complete = '/home/pol/PhD_DATA/SMASH_DATA/Field%s_complete_stars.fits.gz' % (field_number)\n",
    "    complete, header = read_fits(name_field_complete)\n",
    "    \n",
    "    # Applying the completeness to the data.\n",
    "    # Step 1. Retrieving the completeness data available.\n",
    "    magG_complete = complete['INP_G']\n",
    "    magI_complete = complete['INP_I']\n",
    "    recovered = complete['RECOVERED']\n",
    "    \n",
    "    # Step 2. Construct two sets of data. One for the recovered stars and one for the whole dataset.\n",
    "    not_recovered_indeces = np.where(recovered == 0)\n",
    "    magG_recovered, magI_recovered = np.delete(magG_complete, not_recovered_indeces), np.delete(magI_complete, not_recovered_indeces)\n",
    "    recovered_data = np.vstack([magG_recovered - magI_recovered, magG_recovered])\n",
    "    complete_data = np.vstack([magG_complete - magI_complete, magG_complete])\n",
    "    \n",
    "    # Step 3. Construct histograms for the 2 sets.\n",
    "    hist2d_complete = np.histogram2d(complete_data[0], complete_data[1], bins = [xbins,ybins])\n",
    "    hist2d_recovered = np.histogram2d(recovered_data[0], recovered_data[1], bins = [xbins,ybins])\n",
    "    #hist2d_complete, hist2d_recovered = np.array(hist2d_complete), np.array(hist2d_recovered)\n",
    "    \n",
    "    # Step 4. To make sure we have data everywhere we're studying we set the unfilled bins with a 100% completion.\n",
    "    hist2d_complete[0] [hist2d_complete[0] == 0.] = 1.0\n",
    "    hist2d_recovered[0] [hist2d_complete[0] == 0.] = 1.0\n",
    "    \n",
    "    # Step 5. We compute the recovered ratio and apply it to the model.\n",
    "    recovered_ratio = np.divide(hist2d_recovered[0], hist2d_complete[0])\n",
    "    corrected_model = model * recovered_ratio\n",
    "    \n",
    "    #Step 6. We have to take into account that the model uses an area of 3 deg^2, so we also have to correct for that.\n",
    "    corrected_model = corrected_model * (area/3.0)\n",
    "    \n",
    "    return corrected_model"
   ]
  },
  {
   "cell_type": "code",
   "execution_count": 28,
   "metadata": {},
   "outputs": [],
   "source": [
    "# Computes a 2D histogram of observed CMD and MW model CMD and subtracts the later to the fisrt one. Then, plots the result.\n",
    "def cmd_subtractor (data, model, field_number, model_name, filterset, area):\n",
    "    magG = data['G']\n",
    "    magI = data['I']\n",
    "    star_prob = data['PROB']\n",
    "    EBV = data['EBV']\n",
    "    coordinates = data['RA'], data['DEC']\n",
    "\n",
    "    magG_0, magI_0 = dereddener(magG, 1, EBV, filterset), dereddener(magI, 3, EBV, filterset)\n",
    "    GminusI = magG_0 - magI_0\n",
    "    cmd_data = np.vstack([GminusI, magG_0])\n",
    "    #cmd_data = np.array(cmd_data)\n",
    "# Remove blue stars, possibly white dwarfs. These stars are too blue to be stars from a MC.\n",
    "    bad_indeces = np.where(cmd_data[0] < -1)\n",
    "    cmd_data = np.delete(cmd_data, bad_indeces, 1)\n",
    "# Remove faint stars beyond the threshold of the model. We don't have information of how the MW affects our data at this point. In this way we are able to reduce the errors in the data sample.\n",
    "    bad_indeces = np.where(cmd_data[1] > 24)\n",
    "    cmd_data = np.delete(cmd_data, bad_indeces, 1)\n",
    "# Remove red stars where MW models are known to fail and where there is no expectation of MC stars.\n",
    "    bad_indeces = np.where(cmd_data[0] > 2)\n",
    "    cmd_data = np.delete(cmd_data, bad_indeces, 1)\n",
    "# Remove bright stars.\n",
    "    bad_indeces = np.where(cmd_data[1] < 14)\n",
    "    cmd_data = np.delete(cmd_data, bad_indeces, 1)\n",
    "# Remove objects with low stellaricity probability\n",
    "    #bad_indeces = np.where(star_prob <= 0.6)\n",
    "    #cmd_data = np.delete(cmd_data, bad_indeces, 1)\n",
    "\n",
    "\n",
    "# We want first to scale the model to the data. We only want to scale the halo stars in the model since this is the most crucial component that is affecting our results. \n",
    "    halo_scaling_factor = halo_scaler(model, magG_0, magI_0, field_number, area)\n",
    "    \n",
    "# We are going to separate the sample in halo and not halo. To apply the scaling to the halo alone.\n",
    "    model_halo = np.delete(model, np.where(model[8] == 9.) , 1)\n",
    "    model_rest = np.delete(model, np.where(model[8] < 9.) , 1)\n",
    "\n",
    "    \n",
    "    hist2d_data = np.histogram2d(cmd_data[0], cmd_data[1], bins = [xbins,ybins])\n",
    "    hist2d_model_halo = np.histogram2d((model_halo[1] - model_halo[3]), model_halo[1], bins = [xbins,ybins])\n",
    "    hist2d_model_rest = np.histogram2d((model_rest[1] - model_rest[3]), model_rest[1], bins = [xbins,ybins])\n",
    "\n",
    "    \n",
    "    # Applying the completeness to the data.\n",
    "    # Step 1. Retrieving all the simulated stars. We use input magnitudes because they are available for all the stars, even the not recovered.\n",
    "    \n",
    "    #magG_complete = complete['INP_G']\n",
    "    #magI_complete = complete['INP_I']\n",
    "    #recovered = complete['RECOVERED']\n",
    "    #not_recovered_indeces = np.where(recovered == 0)\n",
    "    #magG_recovered, magI_recovered = np.delete(magG_complete, not_recovered_indeces), np.delete(magI_complete, not_recovered_indeces)\n",
    "    #recovered_data = np.vstack([magG_recovered - magI_recovered, magG_recovered])\n",
    "    #complete_data = np.vstack([magG_complete - magI_complete, magG_complete])    \n",
    "    #hist2d_complete = np.histogram2d(complete_data[0], complete_data[1], bins = [xbins,ybins])\n",
    "    #hist2d_recovered = np.histogram2d(recovered_data[0], recovered_data[1], bins = [xbins,ybins])\n",
    "    #hist2d_complete, hist2d_recovered = np.array(hist2d_complete), np.array(hist2d_recovered)\n",
    "    #hist2d_complete[0] [hist2d_complete[0] == 0.] = 1.0\n",
    "    #hist2d_recovered[0] [hist2d_complete[0] == 0.] = 1.0\n",
    "    #recovered_ratio = np.divide(hist2d_recovered[0], hist2d_complete[0])\n",
    "    \n",
    "#    print min(complete_data[0]),max(complete_data[0]),max(complete_data[1]),min(complete_data[1])\n",
    "#    print min(cmd_data[0]), max(cmd_data[0]), max(cmd_data[1]), min(cmd_data[1])\n",
    "#    recovered_ratio = np.reshape(recovered_ratio, -1)\n",
    "#    plt.imshow(recovered_ratio.T, extent = (min(complete_data[0]),max(complete_data[0]),max(complete_data[1]),min(complete_data[1])), aspect = 'auto', origin = 'upper')\n",
    "#    plt.colorbar()\n",
    "#    plt.show()\n",
    "\n",
    "\n",
    "# IMPORTANT LINE BELOW!!! With this line we correct the data with the model. Comment/Uncomment to switch off/on the correction with the model.\n",
    "    hist2d = hist2d_data[0] - completeness_corrector(field_number, hist2d_model_halo[0], area) - completeness_corrector(field_number, hist2d_model_rest[0], area)\n",
    "\n",
    "#    OneToTwoDimHist(hist2d)\n",
    "\n",
    "# Apply a strong cut, where we do not take into account stars that are below the noise level created by subtracting the model from the data, i.e. the values that are below a threshold set by the lowest negative value in the sample.\n",
    "#    print np.amin(hist2d)\n",
    "#    hist2d [hist2d < abs(np.amin(hist2d))] = np.nan\n",
    "# Useful command for plotting.\n",
    "    hist2d [hist2d == 0.] = np.nan\n",
    "\n",
    "# Set the overall figure for the CMD plotting\n",
    "    plt.rc('text', usetex=True)\n",
    "    plt.rc('font', family='serif')\n",
    "    plt.rcParams.update({'font.size':16})\n",
    "    fig = plt.figure()\n",
    "    ax = fig.add_subplot(111)\n",
    "\n",
    "#    print np.nanmax(hist2d)/(np.nanmax(hist2d) + abs(np.nanmin(hist2d)))\n",
    "    hist_final = ax.imshow(hist2d.T, extent = (min(cmd_data[0]),max(cmd_data[0]),min(cmd_data[1]),max(cmd_data[1])), aspect = 'auto', origin = 'lower', cmap = 'viridis_r', norm = colors.SymLogNorm(1), interpolation = 'none') #, norm = colors.SymLogNorm(0.1)\n",
    "\n",
    "    plt.gca().invert_yaxis()\n",
    "    plt.ylabel('g')\n",
    "    plt.xlabel('g-i')\n",
    "    cbd = plt.colorbar(hist_final)\n",
    "    plt.title('Field %s' % (field_number))\n",
    "    plt.savefig('/home/pol/Documents/PhD/CMD_SMASH/Plots/CMD_%s_%s.png' % (field_number, model_name))\n",
    "#    plt.show()\n",
    "    plt.close()\n",
    "    return hist2d, hist2d_data"
   ]
  },
  {
   "cell_type": "code",
   "execution_count": 10,
   "metadata": {},
   "outputs": [],
   "source": [
    "# Function for plotting 2D arrays of CMDs\n",
    "def CMD_hist2d_plotter(data, ):\n",
    "    # Set the overall figure for the CMD plotting\n",
    "    plt.rc('text', usetex=True)\n",
    "    plt.rc('font', family='serif')\n",
    "    plt.rcParams.update({'font.size':16})\n",
    "    fig = plt.figure()\n",
    "    ax = fig.add_subplot(111)\n",
    "\n",
    "    hist_final = ax.imshow(cut_corrected_model.T, aspect = 'auto', origin = 'upper', extent = (min(original_data[1]), max(original_data[1]), max(original_data[2]), min(original_data[2])), cmap = 'viridis_r', norm = colors.SymLogNorm(0.1))##    plt.gca().invert_yaxis()\n",
    "    plt.ylabel('g')\n",
    "    plt.xlabel('g-i')\n",
    "    cbd = plt.colorbar(hist_final)\n",
    "    plt.title('Field %s' % (field_number))\n",
    "\n",
    "    plt.savefig('/home/pol/Documents/PhD/CMD_SMASH/Plots/FinalCMD_modelzone_field%s_%s.png' % (field_number, model))\n",
    "    plt.close()"
   ]
  },
  {
   "cell_type": "code",
   "execution_count": 40,
   "metadata": {},
   "outputs": [
    {
     "name": "stdout",
     "output_type": "stream",
     "text": [
      "[[-1.  -1.   0.   1.5  0.8  1.   1.7  1.7  0.8  0.4  0.4  0.  -0.5 -0.5\n",
      "  -1. ]\n",
      " [14.  22.  24.  24.  23.  20.  18.  17.  18.  18.  21.  19.  16.  14.\n",
      "  14. ]]\n"
     ]
    }
   ],
   "source": [
    "vertex_list = [list(x) for x in vertex_coord]\n",
    "vertex_array = np.array(vertex_list)\n",
    "print vertex_array.T"
   ]
  },
  {
   "cell_type": "code",
   "execution_count": 43,
   "metadata": {},
   "outputs": [
    {
     "data": {
      "text/plain": [
       "1.0857362047581294"
      ]
     },
     "execution_count": 43,
     "metadata": {},
     "output_type": "execute_result"
    }
   ],
   "source": [
    "2.5/np.log(10)"
   ]
  },
  {
   "cell_type": "code",
   "execution_count": 24,
   "metadata": {},
   "outputs": [],
   "source": [
    "# Surface brightness calculator. It uses a corrected 2D histogram array where counts mean stars. The magnitudes are taken from the 3rd array inside the original data. Both arrays should have compatible sizes.\n",
    "def surface_brightness_calculator(corrected_data, original_data, field_number, model, coordinates, data_set, field_area):\n",
    "    #bin_number = int(175 + 0.15 * (len(data[0])/1000))\n",
    "    #field_area_arcsec = 60 * 60 * 60 * 60 * field_area_calculator(coordinates, field_number, bin_number)\n",
    "    field_area_arcsec = 60 * 60 * 60 * 60 * field_area\n",
    "    \n",
    "    #mags = original_data[2][:-1] + ybinsize/2\n",
    "    #clrs = original_data[1][:-1] + xbinsize/2\n",
    "    mags = ybins[:-1] + ybinsize/2\n",
    "    clrs = xbins[:-1] + xbinsize/2\n",
    "    \n",
    "    x, y = np.meshgrid(clrs,mags)\n",
    "    x, y = x.flatten(), y.flatten()\n",
    "    cells = np.vstack((x,y)).T\n",
    "\n",
    "    #vertex_coord = [(-1,14),(-1,22),(0,24),(1.5,24),(0.8,23),(1,20),(1.7,18),(1.7,17),(0.8,18),(0.4,18),(0.4,21),(0,19),(-0.5,16),(-0.5,14),(-1,14)]\n",
    "    path = Path(vertex_coord)\n",
    "    grid = path.contains_points(cells)\n",
    "    grid = grid.reshape((np.ma.size(mags),np.ma.size(clrs)))\n",
    "\n",
    "    cut_corrected_model = np.ma.masked_array(corrected_data, mask=grid.T)\n",
    "    \n",
    "    grid = ~np.array(grid)\n",
    "    cut_corrected_data = np.ma.masked_array(corrected_data, mask=grid.T)\n",
    "\n",
    "\n",
    "\n",
    "    # Set the overall figure for the CMD plotting\n",
    "    plt.rc('text', usetex=True)\n",
    "    plt.rc('font', family='serif')\n",
    "    plt.rcParams.update({'font.size':16})\n",
    "    fig = plt.figure()\n",
    "    ax = fig.add_subplot(111)\n",
    "\n",
    "    hist_final = ax.imshow(corrected_data.T, aspect = 'auto', origin = 'upper', extent = (min(original_data[1]), max(original_data[1]), max(original_data[2]), min(original_data[2])), cmap = 'viridis_r', norm = colors.SymLogNorm(0.1), interpolation = 'none')\n",
    "    vertex_list = [list(x) for x in vertex_coord]\n",
    "    vertex_array = np.array(vertex_list)\n",
    "    polygon = matplotlib.patches.Polygon(vertex_array, alpha = 0.3, color = 'orange')\n",
    "    ax.add_patch(polygon)\n",
    "    #plt.fill(vertex_array[0], vertex_array[1], 'g')\n",
    "    plt.ylabel('g')\n",
    "    plt.xlabel('g-i')\n",
    "    cbd = plt.colorbar(hist_final)\n",
    "    plt.title('Field %s' % (field_number))\n",
    "\n",
    "    plt.savefig('/home/pol/Documents/PhD/CMD_SMASH/Plots/CMD_modelzone_field%s_%s_%s.png' % (field_number, model, data_set))\n",
    "    plt.close()\n",
    "\n",
    "\n",
    "    \n",
    "    #Code for computing the SMC+MW SB.\n",
    "    cut_corrected_data [cut_corrected_data < 0] = 0. #This line sets the bins to 0 if they are negative, to avoid having negative fluxes.\n",
    "    stars_per_mag = np.nansum(cut_corrected_data, 0)\n",
    "    #print stars_per_mag\n",
    "#    flux_per_mag_and_star = np.power(2.511864, -mags) #David's way\n",
    "    flux_per_mag_and_star = np.power(10, -mags/2.5) #My way\n",
    "    total_flux = np.sum(flux_per_mag_and_star * stars_per_mag)\n",
    "    flux_arcsec = total_flux / field_area_arcsec\n",
    "#    print flux_arcsec\n",
    "    mag_arcsec = -2.5*np.log10(flux_arcsec)\n",
    "    \n",
    "    \n",
    "    #Code for computing the MW SB.\n",
    "    model_stars_per_mag = np.nansum(cut_corrected_model, 0)\n",
    "#    flux_per_mag_and_star = np.power(2.511864, -mags) #David's way\n",
    "    model_flux_per_mag_and_star = np.power(10, -mags/2.5) #My way\n",
    "    model_total_flux = np.sum(model_flux_per_mag_and_star * model_stars_per_mag)\n",
    "    \n",
    "    return mag_arcsec, model_total_flux, total_flux\n"
   ]
  },
  {
   "cell_type": "code",
   "execution_count": 12,
   "metadata": {},
   "outputs": [],
   "source": [
    "# Function to retrieve the surface brightness of the model for each field.\n",
    "def model_SB(model):\n",
    "        \n",
    "    model_g = model[1]\n",
    "    model_gi = model[1] - model[3]\n",
    "    \n",
    "    mags = ybins[:-1] + ybinsize/2\n",
    "    clrs = xbins[:-1] + xbinsize/2\n",
    "    \n",
    "    x, y = np.meshgrid(clrs,mags)\n",
    "    x, y = x.flatten(), y.flatten()\n",
    "    cells = np.vstack((x,y)).T\n",
    "    \n",
    "    path = Path(vertex_coord)\n",
    "    grid = path.contains_points(cells)\n",
    "    grid = grid.reshape((np.ma.size(mags),np.ma.size(clrs)))\n",
    "    \n",
    "    model_2dhist, xedges, yedges = np.histogram2d(model_gi, model_g, bins = [xbins,ybins])\n",
    "    \n",
    "    cut_model_out = np.ma.masked_array(model_2dhist, mask=grid.T)\n",
    "    grid = ~np.array(grid)\n",
    "    cut_model_in = np.ma.masked_array(model_2dhist, mask=grid.T)\n",
    "    \n",
    "    stars_per_mag = np.nansum(cut_model_in, 0)\n",
    "#    flux_per_mag_and_star = np.power(2.511864, -mags) #David's way\n",
    "    flux_per_mag_and_star = np.power(10, -mags/2.5) #My way\n",
    "    flux_in = np.sum(flux_per_mag_and_star * stars_per_mag)\n",
    "    \n",
    "    stars_per_mag = np.nansum(cut_model_out, 0)\n",
    "#    flux_per_mag_and_star = np.power(2.511864, -mags) #David's way\n",
    "    flux_per_mag_and_star = np.power(10, -mags/2.5) #My way\n",
    "    flux_out = np.sum(flux_per_mag_and_star * stars_per_mag)\n",
    "    \n",
    "    return flux_in, flux_out"
   ]
  },
  {
   "cell_type": "code",
   "execution_count": 44,
   "metadata": {},
   "outputs": [],
   "source": [
    "# Function that constructs the SB profile based on the retrieved magnitudes and the radial distance from the center of the SMC.\n",
    "def SB_profile(fields_data, fields_errors, fields_coord, model, filterset):\n",
    "\n",
    "    distance_SMC = 62 #kpc\n",
    "    \n",
    "    plt.rc('text', usetex=True)\n",
    "    plt.rc('font', family='serif')\n",
    "    plt.rcParams.update({'font.size':16})\n",
    "    fig = plt.figure(figsize= (8,5))\n",
    "    ax = fig.add_subplot(111)\n",
    "\n",
    "    fields_coord = fields_coord.T\n",
    "    plot = ax.scatter(np.tan(np.deg2rad(fields_coord[1]))*distance_SMC, fields_data, c = fields_coord[2], cmap=cm.coolwarm, vmin = 0, vmax = 360, s = 35, zorder=10)\n",
    "    plt.errorbar(np.tan(np.deg2rad(fields_coord[1]))*distance_SMC, fields_data, yerr = fields_errors, fmt='none', zorder=1)\n",
    "    #for i, field_number in enumerate(fields_coord[0]):\n",
    "    #    plt.annotate(field_number, (str(np.tan(np.deg2rad(fields_coord[1]))*distance_SMC), str(fields_data)))\n",
    "    cb = plt.colorbar(plot)\n",
    "    cb.set_label('Position Angle')\n",
    "    plt.xlim(xmin=0, xmax=15)\n",
    "    plt.ylim(ymin=23, ymax=32)\n",
    "    plt.xlabel('r (kpc)')\n",
    "    plt.ylabel('g (mag/arcsec$^2$)')\n",
    "    plt.gca().invert_yaxis()\n",
    "    plt.savefig('/home/pol/Documents/PhD/CMD_SMASH/Plots/SB_profile_15kpc_errors_%s_%s.png' % (model, filterset))\n",
    "    plt.close()\n"
   ]
  },
  {
   "cell_type": "code",
   "execution_count": 55,
   "metadata": {},
   "outputs": [],
   "source": [
    "distance_SMC = 62#kpc\n",
    "# Plot the SB stored in files.\n",
    "for filterset in coeff_list:\n",
    "    for model_name in model_list:\n",
    "        SB_data = np.loadtxt('/home/pol/Documents/PhD/CMD_SMASH/SB_data_errors_%s_%s.dat' % (model_name, filterset))\n",
    "        fields_data = SB_data[:,3]\n",
    "        fields_errors = SB_data[:,4]\n",
    "        fields_coord = np.array((SB_data[:,0], SB_data[:,1], SB_data[:,2]))\n",
    "        #print fields_data.shape, fields_coord.shape\n",
    "        SB_profile(fields_data, fields_errors, fields_coord.T, model_name, filterset)\n",
    "        np.savetxt('/home/pol/Documents/PhD/CMD_SMASH/SB_profile_info_%s_%s.dat' % (model_name, filterset), np.stack((field_coord_SMC[:,0], np.tan(np.deg2rad(field_coord_SMC[:,1]))*distance_SMC, field_coord_SMC[:,2], areas, fields_data, fields_errors)).T, header='Field_number Distance_SMC(kpc) PA(deg) Area(deg^2) SB(mag/arcsec^2) SB_error(mag/arcsec^2)', fmt= '%.0f %.3f %.3f %.5f %.5f %.5f')"
   ]
  },
  {
   "cell_type": "code",
   "execution_count": 14,
   "metadata": {},
   "outputs": [],
   "source": [
    "# It returns, for a given set of SMASH fields, the values of its position angle (PA) and distance (rho), in degrees, to the SMC center.\n",
    "# field_list is a 1D array with the numbers of the fields in STRINGS\n",
    "# coordinates_data is a 2D array with 3 columns one for the name of the field and the other two for its RA and DEC, in this order and in degrees.\n",
    "def coordinate_calculator (coordinates_data):\n",
    "    SMC_center = SkyCoord('0h52m44s', '-72d49m42s')\n",
    "    LMC_center = SkyCoord('05h27m36s', '-69d52m0s')\n",
    "    field_list_2 = np.array([int(x) for x in field_list])\n",
    "    coordinates_data = coordinates_data.T\n",
    "    coordinates = []\n",
    "    for field in coordinates_data:\n",
    "        for selected in field_list_2:\n",
    "            if field[0] == selected:\n",
    "                field_data = []\n",
    "                field_data.append(selected)\n",
    "                field_coord =  SkyCoord(ra = field[1]*u.degree, dec = field[2]*u.degree)\n",
    "                # We use the rules described in Van der Marel & Cioni 2001 to compute the distance to the center of the SMC. We need to know both sinPA and cosPA to be able to determine in which quadrant is the angle.\n",
    "                rho = np.arccos(np.cos(field_coord.dec.radian) * np.cos(SMC_center.dec.radian) * np.cos(field_coord.ra.radian - SMC_center.ra.radian) + np.sin(field_coord.dec.radian) * np.sin(SMC_center.dec.radian))\n",
    "                field_data.append(np.rad2deg(rho))\n",
    "                cosPA = -np.cos(field_coord.dec.radian) * np.sin(field_coord.ra.radian - SMC_center.ra.radian) / np.sin(rho)\n",
    "                sinPA = (np.sin(field_coord.dec.radian) * np.cos(SMC_center.dec.radian) - np.cos(field_coord.dec.radian) * np.sin(SMC_center.dec.radian) * np.cos(field_coord.ra.radian - SMC_center.ra.radian)) / np.sin(rho)\n",
    "                # We use the extraordinary resources of complex numbers and python functions to obtain the PA in a very cool way.\n",
    "                PA = np.angle(complex(cosPA,sinPA), deg = True)\n",
    "                # This line below is there to obtain the angles in the right convention, i.e. the astrophysical one.\n",
    "                PA = PA - 90\n",
    "                PA = np.where(PA < 0, PA + 360, PA)\n",
    "                field_data.append(PA)\n",
    "                coordinates.append(field_data)\n",
    "    return coordinates\n"
   ]
  },
  {
   "cell_type": "code",
   "execution_count": 29,
   "metadata": {},
   "outputs": [],
   "source": [
    "# Function to scale the number of halo stars in the model to match it to the data.\n",
    "# Input: full model data with all columns (model_data), magnitudes G and I for the SMASH data (magG_0, magI_0) and field_number.\n",
    "def halo_scaler (model_data, magG_0, magI_0, field_number, field_area):\n",
    "    # Prepare the smash_data\n",
    "    GminusI_0 = magG_0 - magI_0\n",
    "    \n",
    "    # Prepare the model_data\n",
    "    #model_data = np.array(model_data)\n",
    "    model_data = np.delete(model_data, np.where(model_data[8] < 9.) , 1) # We only want halo stars (9.0).\n",
    "    modelG = model_data[1]\n",
    "    modelGI = model_data[1] - model_data[3]\n",
    "    \n",
    "    # Step 0. Set up the overall CMD region.\n",
    "    #xbins = np.arange( start = -1, stop = 2, step = xbinsize)\n",
    "    #ybins = np.arange( start = 14, stop = 24, step = ybinsize)\n",
    "    \n",
    "    # Step 1. Create an histogram of the model and the data\n",
    "    hist2d_model = np.histogram2d(modelGI, modelG, bins = [xbins,ybins])\n",
    "    hist2d_data = np.histogram2d(GminusI_0, magG_0, bins = [xbins,ybins])\n",
    "\n",
    "    # Step 2. Set up the region of interest.\n",
    "    mags = hist2d_model[2][:-1] + ybinsize/2\n",
    "    clrs = hist2d_model[1][:-1] + xbinsize/2\n",
    "    x, y = np.meshgrid(clrs,mags)\n",
    "    x, y = x.flatten(), y.flatten()\n",
    "    cells = np.vstack((x,y)).T\n",
    "    \n",
    "    #vertex_coord = [(0.2, 18), (0.4, 18), (0.4, 19), (0.2, 19)] # This is what defines the vertices of the region to be defined.\n",
    "    \n",
    "    path = Path(halo_vertex_coord)\n",
    "    grid = path.contains_points(cells)\n",
    "    grid = grid.reshape((np.ma.size(mags),np.ma.size(clrs)))\n",
    "    grid = ~np.array(grid)\n",
    "\n",
    "    # Step 3. Create a new cut histogram\n",
    "    hist_model = completeness_corrector(field_number, hist2d_model[0], field_area)\n",
    "    cut_hist2d_model = np.ma.masked_array(hist_model, mask=grid.T)\n",
    "    cut_hist2d_data = np.ma.masked_array(hist2d_data[0], mask=grid.T)\n",
    "\n",
    "    # Optional step. Check the results\n",
    "    #plt.rc('text', usetex=True)\n",
    "    #plt.rc('font', family='serif')\n",
    "    #plt.rcParams.update({'font.size':16})\n",
    "    #fig = plt.figure()\n",
    "    #ax = fig.add_subplot(111)\n",
    "\n",
    "    #check_hist = ax.imshow(cut_hist2d_model.T, aspect = 'auto', origin = 'upper', extent = (min(hist2d_model[1]), max(hist2d_model[1]), max(hist2d_model[2]), min(hist2d_model[2])))\n",
    "    #plt.ylabel('g')\n",
    "    #plt.xlabel('g-i')\n",
    "    #cbd = plt.colorbar(check_hist)\n",
    "    #plt.show()\n",
    "    #plt.close()\n",
    "\n",
    "    # Step 4. Counting the number of stars in the region of interest.\n",
    "    stars_model = np.sum(cut_hist2d_model)\n",
    "    stars_data = np.sum(cut_hist2d_data)\n",
    "    #print stars_model, stars_data\n",
    "    \n",
    "    #Step 5. We need to scale the model accordingly to the area of each field.\n",
    "    #stars_model = stars_model * \n",
    "\n",
    "    #Step 5. Final result.\n",
    "    return stars_model/stars_data"
   ]
  },
  {
   "cell_type": "code",
   "execution_count": 16,
   "metadata": {},
   "outputs": [],
   "source": [
    "# Function that calculates the area in a sky region occupied by a given number of stars. The function bins the sky and counts the number of bins with data in it. The size of the bins can be changed accordingly by changing their number. The input must be a numpy array with the first 2 columns being RA and DEC in degrees.\n",
    "def field_area_calculator (data, field, bin_number):\n",
    "    # First of all, we must double check that the field is not in the meridian of RA=0, because this would cause problems with how the code computes the area. If it is in that meridian, we set the values in the 3rd and 4th quadrant to the 0 to -180 interval. In this way we have the values in this meridian continuous. Of course we expect to have no values in the 180 meridian cause this would cause the same problem again.\n",
    "    # We will also multiply RA by cos(DEC) to avoid problems near the poles.\n",
    "    if (max(data[0])-min(data[0])) > 180:\n",
    "        new_ra = np.where(data[0] > 180, data[0] - 360, data[0])\n",
    "        #new_ra = new_ra * np.cos(np.deg2rad(data[1]))\n",
    "        #hist_coord = np.histogram2d(new_ra, data[1], bins = bins)\n",
    "    else:\n",
    "        #hist_coord = np.histogram2d(data[0], data[1], bins = bins)\n",
    "        new_ra = data[0]\n",
    "    \n",
    "    # Secondly, we want to change the RA to RA*cos(DEC) to have a smaller range in this variable. And because we have to do it anyways.\n",
    "    #mid_dec = (data[1][1:] + data[1][:-1]) * 0.5\n",
    "    #new_ra_cosdec = new_ra * np.cos(np.deg2rad(data[1]))\n",
    "    \n",
    "    #binsRA = np.arange(min(new_ra), max(new_ra), binsize)\n",
    "    #binsDEC = np.arange(min(data[1]), max(data[1]), binsize)\n",
    "    # Then, we make an histogram of the data with the amount of bins provided.\n",
    "    hist_coord = np.histogram2d(new_ra, data[1], bins = bin_number)\n",
    "    \n",
    "    # Then, we put nans on the zeros so that they appear white in the figure.\n",
    "    hist_coord[0] [hist_coord[0] == 0.] = np.nan\n",
    "    # We save a figure just to check if the histogram has enough/too much resolution.\n",
    "    plt.figure(1, figsize=(16,9))\n",
    "    plt.imshow(hist_coord[0])\n",
    "    plt.savefig('Field%sSkyView' % (field))\n",
    "#    plt.show()\n",
    "    plt.close()\n",
    "\n",
    "\n",
    "    # We first compute the area of each bin, correcting the dra variable for cos(delta), which takes into account the fact that a RA circle at DEC=0 is greater that one at DEC=80.\n",
    "    dra = np.diff(hist_coord[1])\n",
    "    ddec = np.diff(hist_coord[2])\n",
    "    mid_dec = (hist_coord[2][1:] + hist_coord[2][:-1]) * 0.5\n",
    "    dra_cosdelta = dra * np.cos(np.deg2rad(mid_dec))\n",
    "    # This line below creates a 2D grid of areas, to ensure that later on every bin is multiplied for the correct amount.\n",
    "    area_bin = dra_cosdelta[:, None] * ddec\n",
    "    hist_coord[0] [hist_coord[0] > 0.] = 1.0\n",
    "    # We sum all the bins and mulpiply for the area of each bin.\n",
    "    area = np.nansum(hist_coord[0] * area_bin)\n",
    "    #print 'Field %s Area (degrees^2): ' % (field), area\n",
    "    return area\n"
   ]
  },
  {
   "cell_type": "markdown",
   "metadata": {},
   "source": [
    "The next box is to plot the SB profile with the data already in files."
   ]
  },
  {
   "cell_type": "markdown",
   "metadata": {},
   "source": [
    "# Main execution of the program"
   ]
  },
  {
   "cell_type": "code",
   "execution_count": 54,
   "metadata": {},
   "outputs": [
    {
     "name": "stdout",
     "output_type": "stream",
     "text": [
      "mesa decam\n",
      " \n"
     ]
    },
    {
     "name": "stderr",
     "output_type": "stream",
     "text": [
      "/home/pol/.local/lib/python2.7/site-packages/ipykernel_launcher.py:52: RuntimeWarning: invalid value encountered in less\n"
     ]
    },
    {
     "name": "stdout",
     "output_type": "stream",
     "text": [
      "The SB is: 28.857621394207253 +/- 0.4609547176787975\n",
      "1 mesa\n",
      "\n",
      "The SB is: 29.210563039329223 +/- 0.46859456438443287\n",
      "2 mesa\n",
      "\n",
      "The SB is: 25.514563800759106 +/- 0.10927525424513111\n",
      "3 mesa\n",
      "\n",
      "The SB is: 25.7371766435623 +/- 0.11116640932176607\n",
      "4 mesa\n",
      "\n",
      "The SB is: 25.22862127412631 +/- 0.10924369353532039\n",
      "5 mesa\n",
      "\n",
      "The SB is: 23.538540468138578 +/- 0.10991586303265896\n",
      "6 mesa\n",
      "\n",
      "The SB is: 25.175900449846928 +/- 0.10938502178404629\n",
      "7 mesa\n",
      "\n",
      "The SB is: 29.677052082799207 +/- 1.0597975251490448\n",
      "8 mesa\n",
      "\n",
      "The SB is: 26.228475403948856 +/- 0.10985578866983872\n",
      "9 mesa\n",
      "\n",
      "The SB is: 23.968860364367764 +/- 0.10950032351113066\n",
      "10 mesa\n",
      "\n",
      "The SB is: 24.364060399985963 +/- 0.1096981666298656\n",
      "11 mesa\n",
      "\n",
      "The SB is: 26.624222079701564 +/- 0.11188640880143819\n",
      "12 mesa\n",
      "\n",
      "The SB is: 29.40782034567213 +/- 0.34780185999127416\n",
      "13 mesa\n",
      "\n",
      "The SB is: 25.969054998196377 +/- 0.10996669851119535\n",
      "14 mesa\n",
      "\n",
      "The SB is: 25.378144572427537 +/- 0.10998481629012585\n",
      "15 mesa\n",
      "\n"
     ]
    },
    {
     "name": "stderr",
     "output_type": "stream",
     "text": [
      "/home/pol/.local/lib/python2.7/site-packages/ipykernel_launcher.py:14: RuntimeWarning: invalid value encountered in less\n",
      "  \n"
     ]
    },
    {
     "name": "stdout",
     "output_type": "stream",
     "text": [
      "The SB is: 26.80786498178496 +/- 0.11051891238099107\n",
      "16 mesa\n",
      "\n",
      "The SB is: 29.258380046344776 +/- 1.5816819329615508\n",
      "17 mesa\n",
      "\n",
      "The SB is: 28.076905456822523 +/- 0.22683815591034734\n",
      "18 mesa\n",
      "\n",
      "The SB is: 28.80189508763973 +/- 1.1684322525339377\n",
      "19 mesa\n",
      "\n",
      "The SB is: 30.382163843741722 +/- 0.5187698766218056\n",
      "20 mesa\n",
      "\n",
      "The SB is: 29.887759042880333 +/- 1.1413222497321929\n",
      "21 mesa\n",
      "\n",
      "The SB is: 30.34850876050312 +/- 0.8341473570013297\n",
      "22 mesa\n",
      "\n",
      "The SB is: 30.078605517933784 +/- 0.7580830731193762\n",
      "23 mesa\n",
      "\n",
      "The SB is: 29.733043405530452 +/- 1.007492366786123\n",
      "24 mesa\n",
      "\n",
      "The SB is: 28.983852997399794 +/- 0.37807600801156876\n",
      "25 mesa\n",
      "\n",
      "The SB is: 28.89019322654157 +/- 0.9045954797629883\n",
      "26 mesa\n",
      "\n",
      "The SB is: 29.705258127436146 +/- 1.2193156024601532\n",
      "139 mesa\n",
      "\n",
      "The SB is: 29.505194305292648 +/- 2.1444424685072794\n",
      "141 mesa\n",
      "\n",
      "The SB is: 29.525269844842278 +/- 1.467539600890087\n",
      "142 mesa\n",
      "\n",
      "The SB is: 29.943367179611812 +/- 1.04987461552914\n",
      "143 mesa\n",
      "\n",
      "The SB is: 30.74030885641827 +/- 0.8148380163407929\n",
      "144 mesa\n",
      "\n",
      "The SB is: 30.072725937025353 +/- 1.114661808793705\n",
      "145 mesa\n",
      "\n",
      "The SB is: 29.538338555327748 +/- 1.19412264229396\n",
      "147 mesa\n",
      "\n",
      "The SB is: 28.763313610533494 +/- 1.3219100850689571\n",
      "148 mesa\n",
      "\n",
      "The SB is: 29.71713225759762 +/- 1.2016905046615118\n",
      "149 mesa\n",
      "\n",
      "The SB is: 30.31343691742371 +/- 0.888955751643426\n",
      "150 mesa\n",
      "\n",
      "The SB is: 28.703514054641754 +/- 0.29423549637676\n",
      "176 mesa\n",
      "\n",
      "The SB is: 29.509067924378968 +/- 0.9537787855375821\n",
      "177 mesa\n",
      "\n",
      "The SB is: 27.228623842745705 +/- 0.14533123849365656\n",
      "178 mesa\n",
      "\n",
      "The SB is: 29.307812099239683 +/- 1.1998884190504946\n",
      "181 mesa\n",
      "\n"
     ]
    }
   ],
   "source": [
    "for filterset in coeff_list:\n",
    "    for model_name in model_list:\n",
    "        field_SB = []\n",
    "        field_error = []\n",
    "        model_field_flux = []\n",
    "        data_field_flux = []\n",
    "        print model_name, filterset\n",
    "        print ' '\n",
    "        for field_number, field_area in zip(field_list, areas):\n",
    "            if field_number == '4' or field_number == '9' or field_number == '1':\n",
    "                name_field_data = '/home/pol/PhD_DATA/SMASH_DATA/Field%s_allobj_stars.fits' % (field_number)\n",
    "            else:\n",
    "                name_field_data = '/home/pol/PhD_DATA/SMASH_DATA/Field%s_allobj_stars.fits.gz' % (field_number)\n",
    "            name_field_model = '/home/pol/PhD_DATA/MODELS/CMD_field%s_%s.txt' % (field_number, model_name)\n",
    "            field = 'Field %s' % (field_number)\n",
    "            data, header = read_fits(name_field_data)\n",
    "            model = read_txt(name_field_model)\n",
    "            coordinates = data['RA'], data['DEC']\n",
    "            corrected_data_hist, original_data = cmd_subtractor(data, model, field_number, model_name, filterset, field_area)\n",
    "            \n",
    "            \n",
    "            \n",
    "            data_set = 'data'\n",
    "            temp1, temp2, temp3 = surface_brightness_calculator(corrected_data_hist, original_data, field_number, model_name, coordinates, data_set, field_area)\n",
    "            field_SB, model_field_flux, data_field_flux = np.append(field_SB, temp1), np.append(model_field_flux, temp2), np.append(data_field_flux, temp3)\n",
    "            #print field_SB[-1], model_field_flux[-1], data_field_flux[-1]\n",
    "            #Here we retrieve the SB of the model in the 2 different regions of the CMD, in and out of the area of study.\n",
    "            model_flux_in, model_flux_out = model_SB(model)\n",
    "            #print model_flux_in, model_flux_out\n",
    "            \n",
    "            #Now we calculate the part of the uncertainty due to the model.\n",
    "            model_error = ((model_flux_in/data_field_flux[-1]) * (model_field_flux[-1]/model_flux_out))**2\n",
    "            \n",
    "            #Next the area error.\n",
    "            area_error = 0.1 * 0.1\n",
    "            \n",
    "            #Finally the total error in the field.\n",
    "            field_error.append( (2.5/np.log(10)) * np.sqrt(model_error + area_error) )\n",
    "            print 'The SB is:', field_SB[-1], '+/-', (2.5/np.log(10)) * np.sqrt(model_error + area_error)\n",
    "            \n",
    "            #field_SB.append(surface_brightness_calculator(corrected_data_hist, original_data, field_number, model_name, coordinates, num_stars))\n",
    "            print field_number, model_name\n",
    "            print ''\n",
    "        SB_profile(field_SB, field_error, field_coord_SMC, model_name, filterset)\n",
    "        SB_data = np.stack((field_coord_SMC[:,0], field_coord_SMC[:,1], field_coord_SMC[:,2], field_SB, field_error)).T\n",
    "        np.savetxt('/home/pol/Documents/PhD/CMD_SMASH/SB_data_errors_%s_%s.dat' % (model_name, filterset), SB_data, header='Field_number Distance_SMC(deg) PA(deg) SB(mag/arcsec^2) SB_error(mag/arcsec^2)', fmt= '%.0f %.3f %.3f %.5f %.5f')\n",
    "        \n"
   ]
  },
  {
   "cell_type": "markdown",
   "metadata": {},
   "source": [
    "------------------------------------------------"
   ]
  },
  {
   "cell_type": "code",
   "execution_count": 36,
   "metadata": {
    "scrolled": true
   },
   "outputs": [
    {
     "name": "stderr",
     "output_type": "stream",
     "text": [
      "/home/pol/.local/lib/python2.7/site-packages/ipykernel_launcher.py:39: RuntimeWarning: invalid value encountered in greater\n"
     ]
    },
    {
     "name": "stdout",
     "output_type": "stream",
     "text": [
      "Field 1 Area (degrees^2): 2.3939534585783493 using 182 bins.\n",
      "Field 2 Area (degrees^2): 2.550825127742679 using 184 bins.\n",
      "Field 3 Area (degrees^2): 2.768347718625857 using 300 bins.\n",
      "Field 4 Area (degrees^2): 1.0703773822582514 using 218 bins.\n",
      "Field 5 Area (degrees^2): 2.777894044595874 using 331 bins.\n",
      "Field 6 Area (degrees^2): 2.695124853722061 using 462 bins.\n",
      "Field 7 Area (degrees^2): 2.7610548291142063 using 355 bins.\n",
      "Field 8 Area (degrees^2): 2.4867708382294054 using 182 bins.\n",
      "Field 9 Area (degrees^2): 1.2160002293715846 using 212 bins.\n",
      "Field 10 Area (degrees^2): 2.6763476020503827 using 375 bins.\n",
      "Field 11 Area (degrees^2): 2.77090607082062 using 362 bins.\n",
      "Field 12 Area (degrees^2): 2.819860324625112 using 252 bins.\n",
      "Field 13 Area (degrees^2): 2.6895929638736957 using 186 bins.\n",
      "Field 14 Area (degrees^2): 2.7908984893857998 using 290 bins.\n",
      "Field 15 Area (degrees^2): 2.779262834546049 using 287 bins.\n",
      "Field 16 Area (degrees^2): 2.8063827592604946 using 233 bins.\n",
      "Field 17 Area (degrees^2): 2.6138665486144195 using 183 bins.\n",
      "Field 18 Area (degrees^2): 2.6423030259537033 using 186 bins.\n",
      "Field 19 Area (degrees^2): 2.416758356141947 using 181 bins.\n",
      "Field 20 Area (degrees^2): 2.3244634755346123 using 181 bins.\n",
      "Field 21 Area (degrees^2): 2.418102798769954 using 181 bins.\n",
      "Field 22 Area (degrees^2): 2.539870284868828 using 183 bins.\n",
      "Field 23 Area (degrees^2): 2.346675990877189 using 180 bins.\n",
      "Field 24 Area (degrees^2): 2.0610273167636874 using 179 bins.\n",
      "Field 25 Area (degrees^2): 2.346410591476683 using 181 bins.\n",
      "Field 26 Area (degrees^2): 2.5233301310828833 using 182 bins.\n",
      "Field 139 Area (degrees^2): 2.541413419141667 using 182 bins.\n",
      "Field 141 Area (degrees^2): 2.3959520438193636 using 181 bins.\n",
      "Field 142 Area (degrees^2): 2.627068653729035 using 184 bins.\n",
      "Field 143 Area (degrees^2): 2.35106344739598 using 180 bins.\n",
      "Field 144 Area (degrees^2): 2.5698632629984015 using 184 bins.\n",
      "Field 145 Area (degrees^2): 2.552651156021996 using 183 bins.\n",
      "Field 147 Area (degrees^2): 2.2466384742585874 using 180 bins.\n",
      "Field 148 Area (degrees^2): 2.1696329537990033 using 179 bins.\n",
      "Field 149 Area (degrees^2): 2.6680682930028112 using 185 bins.\n",
      "Field 150 Area (degrees^2): 2.422876794800894 using 181 bins.\n",
      "Field 176 Area (degrees^2): 2.7907619879658547 using 191 bins.\n",
      "Field 177 Area (degrees^2): 2.8001372055317835 using 190 bins.\n",
      "Field 178 Area (degrees^2): 2.867682764378026 using 209 bins.\n",
      "Field 181 Area (degrees^2): 2.2986094675661617 using 180 bins.\n"
     ]
    }
   ],
   "source": [
    "areas = []\n",
    "#alternative_field_list = ['4','9','14','177']\n",
    "for field in field_list:\n",
    "    if field == '4' or field == '9' or field == '1':\n",
    "        name_field_data = '/home/pol/PhD_DATA/SMASH_DATA/Field%s_allobj_stars.fits' % (field)\n",
    "    else:\n",
    "        name_field_data = '/home/pol/PhD_DATA/SMASH_DATA/Field%s_allobj_stars.fits.gz' % (field)\n",
    "    data, header = read_fits(name_field_data)\n",
    "    data = data['RA'], data['DEC']\n",
    "    bin_number = int(175 + 0.15 * (len(data[0])/1000))\n",
    "    areas.append(field_area_calculator(data, field, bin_number))\n",
    "    print 'Field %s Area (degrees^2):' % (field), areas[-1], 'using', bin_number, 'bins.'\n"
   ]
  },
  {
   "cell_type": "code",
   "execution_count": 37,
   "metadata": {},
   "outputs": [],
   "source": [
    "areas_data = np.stack((field_coord_SMC[:,0], areas)).T\n",
    "np.savetxt('/home/pol/PhD_DATA/SMASH_DATA/Field_area_info.txt', areas_data, header = 'Field_number Area(deg^2)', fmt = '%.0f %.2f')"
   ]
  },
  {
   "cell_type": "code",
   "execution_count": 38,
   "metadata": {},
   "outputs": [
    {
     "data": {
      "text/plain": [
       "0.1177791090105817"
      ]
     },
     "execution_count": 38,
     "metadata": {},
     "output_type": "execute_result"
    }
   ],
   "source": [
    "np.std(areas)/2.8"
   ]
  },
  {
   "cell_type": "markdown",
   "metadata": {},
   "source": [
    "We want to know if areas are affected by the change in declination."
   ]
  },
  {
   "cell_type": "code",
   "execution_count": 16,
   "metadata": {},
   "outputs": [
    {
     "ename": "NameError",
     "evalue": "name 'selected' is not defined",
     "output_type": "error",
     "traceback": [
      "\u001b[0;31m---------------------------------------------------------------------------\u001b[0m",
      "\u001b[0;31mNameError\u001b[0m                                 Traceback (most recent call last)",
      "\u001b[0;32m<ipython-input-16-5f1efc9205d5>\u001b[0m in \u001b[0;36m<module>\u001b[0;34m()\u001b[0m\n\u001b[1;32m      4\u001b[0m             \u001b[0;32mif\u001b[0m \u001b[0mfield\u001b[0m\u001b[0;34m[\u001b[0m\u001b[0;36m0\u001b[0m\u001b[0;34m]\u001b[0m \u001b[0;32min\u001b[0m \u001b[0mselected_fields\u001b[0m\u001b[0;34m:\u001b[0m\u001b[0;34m\u001b[0m\u001b[0m\n\u001b[1;32m      5\u001b[0m                 \u001b[0mfield_data\u001b[0m \u001b[0;34m=\u001b[0m \u001b[0;34m[\u001b[0m\u001b[0;34m]\u001b[0m\u001b[0;34m\u001b[0m\u001b[0m\n\u001b[0;32m----> 6\u001b[0;31m                 \u001b[0mfield_data\u001b[0m\u001b[0;34m.\u001b[0m\u001b[0mappend\u001b[0m\u001b[0;34m(\u001b[0m\u001b[0mselected\u001b[0m\u001b[0;34m)\u001b[0m\u001b[0;34m\u001b[0m\u001b[0m\n\u001b[0m\u001b[1;32m      7\u001b[0m                 \u001b[0mfield_coord\u001b[0m \u001b[0;34m=\u001b[0m  \u001b[0mSkyCoord\u001b[0m\u001b[0;34m(\u001b[0m\u001b[0mra\u001b[0m \u001b[0;34m=\u001b[0m \u001b[0mfield\u001b[0m\u001b[0;34m[\u001b[0m\u001b[0;36m1\u001b[0m\u001b[0;34m]\u001b[0m\u001b[0;34m*\u001b[0m\u001b[0mu\u001b[0m\u001b[0;34m.\u001b[0m\u001b[0mdegree\u001b[0m\u001b[0;34m,\u001b[0m \u001b[0mdec\u001b[0m \u001b[0;34m=\u001b[0m \u001b[0mfield\u001b[0m\u001b[0;34m[\u001b[0m\u001b[0;36m2\u001b[0m\u001b[0;34m]\u001b[0m\u001b[0;34m*\u001b[0m\u001b[0mu\u001b[0m\u001b[0;34m.\u001b[0m\u001b[0mdegree\u001b[0m\u001b[0;34m)\u001b[0m\u001b[0;34m\u001b[0m\u001b[0m\n\u001b[1;32m      8\u001b[0m                 \u001b[0mdeclinations\u001b[0m\u001b[0;34m.\u001b[0m\u001b[0mappend\u001b[0m\u001b[0;34m(\u001b[0m\u001b[0mfield_coord\u001b[0m\u001b[0;34m.\u001b[0m\u001b[0mdec\u001b[0m\u001b[0;34m.\u001b[0m\u001b[0mdeg\u001b[0m\u001b[0;34m)\u001b[0m\u001b[0;34m\u001b[0m\u001b[0m\n",
      "\u001b[0;31mNameError\u001b[0m: name 'selected' is not defined"
     ]
    }
   ],
   "source": [
    "selected_fields = [int(x) for x in field_list]\n",
    "declinations = []\n",
    "for field in coord_list.T:\n",
    "            if field[0] in selected_fields:\n",
    "                field_data = []\n",
    "                field_data.append(field)\n",
    "                field_coord =  SkyCoord(ra = field[1]*u.degree, dec = field[2]*u.degree)\n",
    "                declinations.append(field_coord.dec.deg)\n",
    "#plt.scatter(declinations, areas)\n",
    "big_areas = areas[-6:-3]\n",
    "gc_areas = np.append(areas[3], areas[8])\n",
    "normal_areas = []\n",
    "for iteration in areas:\n",
    "    if iteration not in gc_areas and iteration not in big_areas:\n",
    "        normal_areas.append(iteration)\n",
    "print np.mean(normal_areas), np.std(normal_areas)\n",
    "#plt.hist(normal_areas)\n",
    "plt.scatter(declinations, areas)\n",
    "plt.show()"
   ]
  },
  {
   "cell_type": "markdown",
   "metadata": {},
   "source": [
    "# Error calculation"
   ]
  },
  {
   "cell_type": "code",
   "execution_count": 40,
   "metadata": {},
   "outputs": [
    {
     "data": {
      "text/plain": [
       "0.07142857142857144"
      ]
     },
     "execution_count": 40,
     "metadata": {},
     "output_type": "execute_result"
    }
   ],
   "source": [
    "# Given a certain field, with a precomputed surface brightness, this function will compute the uncetainty in the flux.\n",
    "\n",
    "def flux_error():\n",
    "    \n",
    "\n"
   ]
  },
  {
   "cell_type": "markdown",
   "metadata": {},
   "source": [
    "# Model correction tests"
   ]
  },
  {
   "cell_type": "markdown",
   "metadata": {},
   "source": [
    "First we retrieve the data and the halo stars from the model"
   ]
  },
  {
   "cell_type": "code",
   "execution_count": 27,
   "metadata": {},
   "outputs": [],
   "source": [
    "# Setting the field number\n",
    "field_number = '179'\n",
    "\n",
    "# Retrieving smash data\n",
    "field_name = '/home/pol/PhD_DATA/SMASH_DATA/Field%s_allobj_stars.fits.gz' % (field_number)\n",
    "data, header = read_fits(field_name)\n",
    "magG = data['G']\n",
    "magI = data['I']\n",
    "EBV = data['EBV']\n",
    "magG_0, magI_0 = dereddener(magG, 1, EBV, 'decam'), dereddener(magI, 3, EBV, 'decam')\n",
    "GminusI_0 = magG_0 - magI_0\n",
    "GminusI = magG - magI\n",
    "#smash_data = np.vstack([GminusI, magG_0])\n",
    "\n",
    "# Retrieving model\n",
    "model_name = '/home/pol/PhD_DATA/MODELS/CMD_field%s_dartmouth.txt' % (field_number)\n",
    "model = read_txt(model_name)\n",
    "model_data = np.array(model)\n",
    "model_data = np.delete(model, np.where(model_data[8] < 9.) , 1)\n",
    "#print len(model[8]), len(model_data[8])\n",
    "#print model_data\n",
    "modelG = model_data[1]\n",
    "modelGI = model_data[1] - model_data[3]\n",
    "#modelG = model[1]\n",
    "#modelGI = model[1] - model[3]\n",
    "#print len(modelG)\n",
    "\n",
    "# Set the overall region of the CMD we're interested in.\n",
    "#xbins = np.arange( start = -1, stop = 2, step = xbinsize)\n",
    "#ybins = np.arange( start = 14, stop = 24, step = ybinsize)"
   ]
  },
  {
   "cell_type": "markdown",
   "metadata": {},
   "source": [
    "Just a plotting of the model halo stars"
   ]
  },
  {
   "cell_type": "code",
   "execution_count": 30,
   "metadata": {},
   "outputs": [
    {
     "name": "stdout",
     "output_type": "stream",
     "text": [
      "37045 79386\n"
     ]
    },
    {
     "data": {
      "image/png": "[encoded data removed]",
      "text/plain": [
       "<matplotlib.figure.Figure at 0x7f14a591bdd0>"
      ]
     },
     "metadata": {},
     "output_type": "display_data"
    }
   ],
   "source": [
    "print len(modelG), len(magG_0)\n",
    "#hist2d_data = np.histogram2d(smash_data[0], smash_data[1], bins = [xbins,ybins])\n",
    "#hist2d_model = np.histogram2d(modelGI, modelG, bins = [xbins,ybins], range = [[min(smash_data[0]), max(smash_data[0])],[min(smash_data[1]), max(smash_data[1])]])\n",
    "\n",
    "plt.figure(figsize=(15,6))\n",
    "plt.subplot(1, 2, 1)\n",
    "plt.title('Model (Halo stars)')\n",
    "plt.hist2d(modelGI, modelG, bins = [xbins,ybins], cmin = 1, cmap='viridis')\n",
    "#plt.hist2d(GminusI_0, magG_0, bins = [xbins,ybins], cmin = 1)\n",
    "plt.gca().invert_yaxis()\n",
    "#plt.clim(1, 210)\n",
    "plt.colorbar()\n",
    "\n",
    "plt.subplot(1, 2, 2)\n",
    "plt.title('SMASH')\n",
    "plt.hist2d(GminusI_0, magG_0, bins = [xbins,ybins], cmin = 1, cmap='viridis')\n",
    "plt.gca().invert_yaxis()\n",
    "#plt.clim(1, 210)\n",
    "plt.colorbar()\n",
    "\n",
    "plt.savefig('/home/pol/Documents/PhD/CMD_SMASH/Plots/Field%s_ModelvsSMASH.png' % (field_number))\n",
    "plt.tight_layout()\n",
    "plt.show()\n",
    "plt.close()"
   ]
  },
  {
   "cell_type": "markdown",
   "metadata": {},
   "source": [
    "Halo scaling in region of interest"
   ]
  },
  {
   "cell_type": "code",
   "execution_count": 146,
   "metadata": {},
   "outputs": [
    {
     "data": {
      "image/png": "[encoded data removed]",
      "text/plain": [
       "<matplotlib.figure.Figure at 0x7f8484978a10>"
      ]
     },
     "metadata": {},
     "output_type": "display_data"
    },
    {
     "name": "stdout",
     "output_type": "stream",
     "text": [
      "82.55 3754.0\n",
      "0.021989877464038358\n"
     ]
    }
   ],
   "source": [
    "# Step 1. Create an histogram of the model and the data\n",
    "hist2d_model = np.histogram2d(modelGI, modelG, bins = [xbins,ybins])\n",
    "hist2d_data = np.histogram2d(GminusI_0, magG_0, bins = [xbins,ybins])\n",
    "\n",
    "# Step 2. Set up the region of interest.\n",
    "mags = hist2d_model[2][:-1] + ybinsize/2.\n",
    "clrs = hist2d_model[1][:-1] + xbinsize/2.\n",
    "x, y = np.meshgrid(clrs,mags)\n",
    "x, y = x.flatten(), y.flatten()\n",
    "cells = np.vstack((x,y)).T\n",
    "vertex_coord = [(0.2, 18), (0.4, 18), (0.4, 19), (0.2, 19)] # This is what defines the vertices of the region to be defined.\n",
    "path = Path(vertex_coord)\n",
    "grid = path.contains_points(cells)\n",
    "grid = grid.reshape((np.ma.size(mags),np.ma.size(clrs)))\n",
    "grid = ~np.array(grid)\n",
    "\n",
    "# Step 3. Create a new cut histogram\n",
    "hist_model = completeness_corrector(field_number, hist2d_model[0])\n",
    "cut_hist2d_model = np.ma.masked_array(hist_model, mask=grid.T)\n",
    "cut_hist2d_data = np.ma.masked_array(hist2d_data[0], mask=grid.T)\n",
    "\n",
    "# Optional step. Check the results\n",
    "plt.rc('text', usetex=True)\n",
    "plt.rc('font', family='serif')\n",
    "plt.rcParams.update({'font.size':16})\n",
    "fig = plt.figure(figsize = (8,5))\n",
    "ax = fig.add_subplot(111)\n",
    "\n",
    "check_hist = ax.imshow(cut_hist2d_model.T, aspect = 'auto', origin = 'upper', extent = (min(hist2d_model[1]), max(hist2d_model[1]), max(hist2d_model[2]), min(hist2d_model[2])))\n",
    "plt.ylabel('g')\n",
    "plt.xlabel('g-i')\n",
    "cbd = plt.colorbar(check_hist)\n",
    "plt.show()\n",
    "plt.close()\n",
    "\n",
    "# Step 4. Counting the number of stars in the region of interest.\n",
    "stars_model = np.sum(cut_hist2d_model)\n",
    "stars_data = np.sum(cut_hist2d_data)\n",
    "print stars_model, stars_data\n",
    "\n",
    "#Step 5. Final result.\n",
    "print stars_model/stars_data\n"
   ]
  },
  {
   "cell_type": "markdown",
   "metadata": {},
   "source": [
    "# Testing of number of halo stars as a function of distance to the SMC"
   ]
  },
  {
   "cell_type": "code",
   "execution_count": 151,
   "metadata": {},
   "outputs": [
    {
     "name": "stdout",
     "output_type": "stream",
     "text": [
      "1 0.49547101449275355\n",
      "2 2.4152542372881354\n",
      "3 0.7539149888143176\n",
      "4 2.9619565217391304\n",
      "5 0.20333333333333334\n",
      "6 0.023823477179897\n",
      "7 0.5534313725490195\n",
      "8 1.433921568627451\n",
      "9 1.2158119658119657\n",
      "10 0.0394910574960989\n",
      "11 0.10035005834305717\n",
      "12 0.8753387533875338\n",
      "13 2.344086021505376\n",
      "14 0.7426900584795321\n",
      "15 0.4877567140600316\n",
      "16 0.4275362318840579\n",
      "17 1.2817745803357314\n",
      "18 1.0677083333333333\n",
      "19 1.176797385620915\n",
      "20 2.0418079096045196\n",
      "21 0.8824273072060683\n",
      "22 2.286111111111111\n",
      "23 1.025229357798165\n",
      "24 1.5633802816901408\n",
      "25 1.3006493506493506\n",
      "26 1.2602693602693602\n",
      "33 0.6050254452926208\n",
      "62 0.9276094276094276\n",
      "130 0.8117647058823527\n",
      "131 0.8453177257525084\n",
      "132 0.8495614035087719\n",
      "133 0.7522035256410257\n",
      "134 0.8405797101449274\n",
      "135 0.8397350993377484\n",
      "136 3.3014184397163118\n",
      "137 1.6727272727272726\n",
      "138 1.9285714285714286\n",
      "139 2.372448979591837\n",
      "140 1.3446875\n",
      "141 1.3590476190476188\n",
      "142 1.7720326936744848\n",
      "143 2.246341463414634\n",
      "144 2.4254901960784316\n",
      "145 0.9671916010498688\n",
      "147 0.847972972972973\n",
      "148 2.2578431372549024\n",
      "149 1.8433734939759037\n",
      "150 2.2750000000000004\n",
      "176 1.2109609609609608\n",
      "177 1.2055555555555555\n",
      "178 0.8152777777777778\n",
      "179 1.2353061224489794\n",
      "180 0.686969696969697\n",
      "181 1.2987179487179488\n"
     ]
    }
   ],
   "source": [
    "scales = []\n",
    "for field in field_list:\n",
    "    name_field_model = '/scratch/MODELS/CMD_field%s_mesa.txt' % (field)\n",
    "    if field == '4' or field == '9' or field == '1':\n",
    "        name_field_data = '/scratch/SMASH_DATA/Field%s_allobj_stars.fits' % (field)\n",
    "    else:\n",
    "        name_field_data = '/scratch/SMASH_DATA/Field%s_allobj_stars.fits.gz' % (field)\n",
    "    data, header = read_fits(name_field_data)\n",
    "    magG = data['G']\n",
    "    magI = data['I']\n",
    "    EBV = data['EBV']\n",
    "    magG_0, magI_0 = dereddener(magG, 1, EBV), dereddener(magI, 3, EBV)\n",
    "    model = read_txt(name_field_model)\n",
    "    scales.append(halo_scaler(model, magG_0, magI_0, field))\n",
    "    print field, scales[-1]\n",
    "    "
   ]
  },
  {
   "cell_type": "code",
   "execution_count": 152,
   "metadata": {},
   "outputs": [
    {
     "data": {
      "image/png": "[encoded data removed]",
      "text/plain": [
       "<matplotlib.figure.Figure at 0x7f84849fe750>"
      ]
     },
     "metadata": {},
     "output_type": "display_data"
    }
   ],
   "source": [
    "plt.rc('text', usetex=True)\n",
    "plt.rc('font', family='serif')\n",
    "plt.rcParams.update({'font.size':16})\n",
    "fig = plt.figure()\n",
    "ax = fig.add_subplot(111)\n",
    "ax.set_yscale('log')\n",
    "\n",
    "fields_coord = field_coord_SMC.T\n",
    "plot = ax.scatter(fields_coord[1], scales, c = fields_coord[2], cmap=cm.coolwarm, vmin = 0, vmax = 360)\n",
    "cb = plt.colorbar(plot)\n",
    "cb.set_label('Position Angle')\n",
    "plt.xlabel('Degrees from SMC centre')\n",
    "plt.ylabel('Model/SMASH (Halo)')\n",
    "plt.savefig('/user/HS128/pm00518/Documents/PhD/CMD_SMASH/Plots/Halo_scaling_mesa.png')\n",
    "plt.show()\n",
    "plt.close()"
   ]
  },
  {
   "cell_type": "code",
   "execution_count": 17,
   "metadata": {},
   "outputs": [
    {
     "data": {
      "text/plain": [
       "<SkyCoord (ICRS): (ra, dec) in deg\n",
       "    (13.18333333, -72.82833333)>"
      ]
     },
     "execution_count": 17,
     "metadata": {},
     "output_type": "execute_result"
    }
   ],
   "source": [
    "SMC_center = SkyCoord('0h52m44s', '-72d49m42s')\n",
    "SMC_center"
   ]
  },
  {
   "cell_type": "code",
   "execution_count": null,
   "metadata": {},
   "outputs": [],
   "source": []
  }
 ],
 "metadata": {
  "kernelspec": {
   "display_name": "Python 2",
   "language": "python",
   "name": "python2"
  },
  "language_info": {
   "codemirror_mode": {
    "name": "ipython",
    "version": 2
   },
   "file_extension": ".py",
   "mimetype": "text/x-python",
   "name": "python",
   "nbconvert_exporter": "python",
   "pygments_lexer": "ipython2",
   "version": "2.7.12"
  }
 },
 "nbformat": 4,
 "nbformat_minor": 2
}
